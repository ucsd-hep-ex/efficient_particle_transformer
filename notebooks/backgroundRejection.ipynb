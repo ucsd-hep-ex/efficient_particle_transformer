{
 "cells": [
  {
   "cell_type": "code",
   "execution_count": 1,
   "id": "fab67872-f3b8-44ff-b327-1ea3a53c6c71",
   "metadata": {},
   "outputs": [],
   "source": [
    "import numpy as np\n",
    "from sklearn.metrics import accuracy_score, roc_curve, roc_auc_score\n",
    "import uproot\n",
    "import glob"
   ]
  },
  {
   "cell_type": "code",
   "execution_count": 3,
   "id": "14a6431c",
   "metadata": {},
   "outputs": [
    {
     "name": "stdout",
     "output_type": "stream",
     "text": [
      "../training/JetClass/Pythia/full/MorePairAttnParT/20240907-142712_example_MorePairAttnParticleTransformer_ranger_lr0.001_batch512/predict_output/pred_TTBarLep.root\n",
      "../training/JetClass/Pythia/full/MorePairAttnParT/20240907-142712_example_MorePairAttnParticleTransformer_ranger_lr0.001_batch512/predict_output/pred_TTBar.root\n",
      "../training/JetClass/Pythia/full/MorePairAttnParT/20240907-142712_example_MorePairAttnParticleTransformer_ranger_lr0.001_batch512/predict_output/pred_HToWW4Q.root\n",
      "../training/JetClass/Pythia/full/MorePairAttnParT/20240907-142712_example_MorePairAttnParticleTransformer_ranger_lr0.001_batch512/predict_output/pred_HToGG.root\n",
      "../training/JetClass/Pythia/full/MorePairAttnParT/20240907-142712_example_MorePairAttnParticleTransformer_ranger_lr0.001_batch512/predict_output/pred_WToQQ.root\n",
      "../training/JetClass/Pythia/full/MorePairAttnParT/20240907-142712_example_MorePairAttnParticleTransformer_ranger_lr0.001_batch512/predict_output/pred_ZJetsToNuNu.root\n",
      "../training/JetClass/Pythia/full/MorePairAttnParT/20240907-142712_example_MorePairAttnParticleTransformer_ranger_lr0.001_batch512/predict_output/pred_HToCC.root\n",
      "../training/JetClass/Pythia/full/MorePairAttnParT/20240907-142712_example_MorePairAttnParticleTransformer_ranger_lr0.001_batch512/predict_output/pred_HToBB.root\n",
      "../training/JetClass/Pythia/full/MorePairAttnParT/20240907-142712_example_MorePairAttnParticleTransformer_ranger_lr0.001_batch512/predict_output/pred_ZToQQ.root\n",
      "../training/JetClass/Pythia/full/MorePairAttnParT/20240907-142712_example_MorePairAttnParticleTransformer_ranger_lr0.001_batch512/predict_output/pred_HToWW2Q1L.root\n"
     ]
    }
   ],
   "source": [
    "\n",
    "classes = ['QCD', 'Hbb', 'Hcc', 'Hgg', 'H4q', 'Hqql', 'Zqq', 'Wqq', 'Tbqq', 'Tbl']\n",
    "n_classes = len(classes)\n",
    "label_list = [f'label_{cls}' for cls in classes]\n",
    "score_list = [f'score_label_{cls}' for cls in classes]\n",
    "\n",
    "\n",
    "# full_path = \"../training/JetClass/Pythia/full/MorePairAttnParT/20240907-142712_example_MorePairAttnParticleTransformer_ranger_lr0.001_batch512/predict_output/pred_*.root\"\n",
    "full_path = \"../training/JetClass/Pythia/full/LinformerPairWise/20240919-184207_example_LinformerPairwise_ranger_lr0.001_batch512/predict_output/pred_*.root\"\n",
    "\n",
    "arrays = []\n",
    "concat_arrays = {}\n",
    "for file_name in glob.glob(full_path):\n",
    "    with uproot.open(file_name) as f:\n",
    "        print(file_name)\n",
    "        arrays.append(f[\"Events\"].arrays(label_list + score_list))\n",
    "for key in label_list + score_list:\n",
    "    concat_arrays[key] = np.concatenate([arrays[i][key].to_numpy() for i in range(len(arrays))])\n",
    "\n",
    "y_prob = np.stack([concat_arrays[key] for key in score_list], axis=1)\n",
    "labels = np.stack([concat_arrays[key] for key in label_list], axis=1).astype(int)"
   ]
  },
  {
   "cell_type": "code",
   "execution_count": 4,
   "id": "47b70f51-9661-4b04-a9fa-cc80ab49d046",
   "metadata": {},
   "outputs": [
    {
     "name": "stdout",
     "output_type": "stream",
     "text": [
      "Overall ROC AUC = 0.9854, Accuracy = 0.8452\n",
      "Rejection at 50.0% for label_Hbb: 9259.25925925926\n",
      "Rejection at 50.0% for label_Hcc: 3442.340791738382\n",
      "Rejection at 50.0% for label_Hgg: 106.57004316086748\n",
      "Rejection at 50.0% for label_H4q: 985.7072449482504\n",
      "Rejection at 99.0% for label_Hqql: 4310.3448275862065\n",
      "Rejection at 50.0% for label_Zqq: 344.64931931759435\n",
      "Rejection at 50.0% for label_Wqq: 456.4125969876769\n",
      "Rejection at 50.0% for label_Tbqq: 16260.162601626014\n",
      "Rejection at 99.5% for label_Tbl: 12499.999999999998\n"
     ]
    }
   ],
   "source": [
    "overall_roc_auc = roc_auc_score(labels, y_prob, average='macro', multi_class='ovo')\n",
    "predicted_labels = np.argmax(y_prob, axis=1) \n",
    "true_labels = np.argmax(labels, axis=1)  \n",
    "\n",
    "accuracy = accuracy_score(true_labels, predicted_labels)\n",
    "\n",
    "print(f'Overall ROC AUC = {overall_roc_auc:.4f}, Accuracy = {accuracy:.4f}')\n",
    "\n",
    "\n",
    "scores = y_prob / (y_prob[:, :1] + y_prob) # defaults to 0.5 for QCD (not used)\n",
    "\n",
    "rejections = []\n",
    "\n",
    "for i in range(1, n_classes):\n",
    "    if i == 5:\n",
    "        percent = 0.99\n",
    "    elif i == 9:\n",
    "        percent = 0.995\n",
    "    else:\n",
    "        percent = 0.5\n",
    "    \n",
    "    mask = (labels[:, 0] == 1) | (labels[:, i] == 1)\n",
    "    filtered_labels = labels[mask]\n",
    "    filtered_scores = scores[mask]\n",
    "    \n",
    "    binary_labels = (filtered_labels[:, i] == 1).astype(int)\n",
    "    binary_scores = filtered_scores[:, i]\n",
    "    \n",
    "    fpr, tpr, thresholds = roc_curve(binary_labels, binary_scores)\n",
    "\n",
    "    idx = np.abs(tpr - percent).argmin()\n",
    "    \n",
    "    if fpr[idx] != 0:\n",
    "        rejection = 1 / fpr[idx]\n",
    "    else:\n",
    "        rejection = np.inf  \n",
    "    \n",
    "    rejections.append(rejection)\n",
    "    \n",
    "    print(f'Rejection at {percent*100}% for {label_list[i]}: {rejection}')"
   ]
  },
  {
   "cell_type": "code",
   "execution_count": null,
   "id": "315b6a6f",
   "metadata": {},
   "outputs": [],
   "source": []
  },
  {
   "cell_type": "code",
   "execution_count": null,
   "id": "a976d364",
   "metadata": {},
   "outputs": [],
   "source": []
  }
 ],
 "metadata": {
  "kernelspec": {
   "display_name": "base",
   "language": "python",
   "name": "python3"
  },
  "language_info": {
   "codemirror_mode": {
    "name": "ipython",
    "version": 3
   },
   "file_extension": ".py",
   "mimetype": "text/x-python",
   "name": "python",
   "nbconvert_exporter": "python",
   "pygments_lexer": "ipython3",
   "version": "3.10.12"
  }
 },
 "nbformat": 4,
 "nbformat_minor": 5
}
