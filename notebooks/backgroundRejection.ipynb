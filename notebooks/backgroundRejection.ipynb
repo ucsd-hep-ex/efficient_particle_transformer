{
 "cells": [
  {
   "cell_type": "code",
   "execution_count": 6,
   "id": "fab67872-f3b8-44ff-b327-1ea3a53c6c71",
   "metadata": {},
   "outputs": [],
   "source": [
    "import numpy as np\n",
    "from sklearn.metrics import accuracy_score\n",
    "import matplotlib.pyplot as plt\n",
    "import numpy as np\n",
    "from sklearn.metrics import roc_curve, auc, roc_auc_score\n",
    "from scipy.special import softmax\n",
    "\n",
    "import uproot\n",
    "import glob"
   ]
  },
  {
   "cell_type": "code",
   "execution_count": null,
   "id": "14a6431c",
   "metadata": {},
   "outputs": [],
   "source": [
    "\n",
    "classes = ['QCD', 'Hbb', 'Hcc', 'Hgg', 'H4q', 'Hqql', 'Zqq', 'Wqq', 'Tbqq', 'Tbl']\n",
    "n_classes = len(classes)\n",
    "label_list = [f'label_{cls}' for cls in classes]\n",
    "score_list = [f'score_label_{cls}' for cls in classes]\n",
    "\n",
    "\n",
    "model = \"MorePairAttnParT\"\n",
    "arrays = []\n",
    "concat_arrays = {}\n",
    "for file_name in glob.glob(f\"../models/{model}_full_pred_*.root\"):\n",
    "    with uproot.open(file_name) as f:\n",
    "        arrays.append(f[\"Events\"].arrays(label_list + score_list))\n",
    "for key in label_list + score_list:\n",
    "    concat_arrays[key] = np.concatenate([arrays[i][key].to_numpy() for i in range(len(arrays))])\n",
    "\n",
    "\n",
    "y_prob = np.stack([concat_arrays[key] for key in score_list], axis=1)\n",
    "labels = np.stack([concat_arrays[key] for key in label_list], axis=1).astype(int)\n"
   ]
  },
  {
   "cell_type": "code",
   "execution_count": null,
   "id": "47b70f51-9661-4b04-a9fa-cc80ab49d046",
   "metadata": {},
   "outputs": [],
   "source": [
    "overall_roc_auc = roc_auc_score(labels, y_prob, average='macro', multi_class='ovo')\n",
    "predicted_labels = np.argmax(y_prob, axis=1) \n",
    "true_labels = np.argmax(labels, axis=1)  \n",
    "\n",
    "accuracy = accuracy_score(true_labels, predicted_labels)\n",
    "\n",
    "print(f'Overall ROC AUC = {overall_roc_auc:.4f}, Accuracy = {accuracy:.4f}')\n",
    "\n",
    "\n",
    "scores = y_prob[:, 1:] / (y_prob[:, :1] + y_prob[:, 1:])\n",
    "scores = np.concatenate((y_prob[:, :1], scores), axis=1)\n",
    "\n",
    "rejections = []\n",
    "\n",
    "for i in range(1, n_classes):\n",
    "    if i == 5:\n",
    "        percent = 0.99\n",
    "    elif i == 9:\n",
    "        percent = 0.995\n",
    "    else:\n",
    "        percent = 0.5\n",
    "    \n",
    "    mask = (labels[:, 0] == 1) | (labels[:, i] == 1)\n",
    "    filtered_labels = labels[mask]\n",
    "    filtered_scores = scores[mask]\n",
    "    \n",
    "    binary_labels = (filtered_labels[:, i] == 1).astype(int)\n",
    "    binary_scores = filtered_scores[:, i]\n",
    "    \n",
    "    fpr, tpr, thresholds = roc_curve(binary_labels, binary_scores)\n",
    "\n",
    "    idx = np.abs(tpr - percent).argmin()\n",
    "    \n",
    "    if fpr[idx] != 0:\n",
    "        rejection = 1 / fpr[idx]\n",
    "    else:\n",
    "        rejection = np.inf  \n",
    "    \n",
    "    rejections.append(rejection)\n",
    "    \n",
    "    print(f'Rejection at {percent*100}% for {label_list[i]}: {rejection}')"
   ]
  }
 ],
 "metadata": {
  "kernelspec": {
   "display_name": "base",
   "language": "python",
   "name": "python3"
  },
  "language_info": {
   "codemirror_mode": {
    "name": "ipython",
    "version": 3
   },
   "file_extension": ".py",
   "mimetype": "text/x-python",
   "name": "python",
   "nbconvert_exporter": "python",
   "pygments_lexer": "ipython3",
   "version": "3.10.12"
  }
 },
 "nbformat": 4,
 "nbformat_minor": 5
}
